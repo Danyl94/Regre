{
 "cells": [
  {
   "cell_type": "markdown",
   "id": "e409e694",
   "metadata": {},
   "source": [
    "<h2><font color=\"#004D7F\" size=6>  Regresión Lineal simple</font></h2>\n",
    "\n",
    "\n",
    "\n",
    "<br><br>\n",
    "<div style=\"text-align: right\">\n",
    "<font color=\"#004D7F\" size=3>Danyela Luengas Nova</font><br>\n",
    "<font color=\"#004D7F\" size=3>Estadísitica y probabilidad </font><br>"
   ]
  },
  {
   "cell_type": "markdown",
   "id": "f8fdfa38",
   "metadata": {},
   "source": [
    "El conjunto de datos 'Birthweight' contiene la información de 42 bebés al nacer. La pregunta de investigación es saber. &nbsp;\n",
    "\n",
    "**Si existe una relación entre al peso al nacer y el tiempo de gestación**.  &nbsp;\n",
    "\n",
    "La variable dependiente es Peso al nacer (dada en libras) y la variable independiente para esta actividad es la edad gestacional del bebé al nacer (en semanas)."
   ]
  },
  {
   "cell_type": "code",
   "execution_count": 1,
   "id": "fc1fb661",
   "metadata": {},
   "outputs": [
    {
     "name": "stderr",
     "output_type": "stream",
     "text": [
      "C:\\Users\\daalu\\anaconda3\\lib\\site-packages\\outdated\\utils.py:14: OutdatedPackageWarning: The package pingouin is out of date. Your version is 0.3.3, the latest is 0.5.2.\n",
      "Set the environment variable OUTDATED_IGNORE=1 to disable these warnings.\n",
      "  return warn(\n"
     ]
    }
   ],
   "source": [
    "# librerías\n",
    "import numpy as np\n",
    "import pandas as pd\n",
    "import matplotlib.pyplot as plt\n",
    "import matplotlib.ticker as ticker\n",
    "import seaborn as sns\n",
    "import math\n",
    "\n",
    "import scipy.stats as st\n",
    "import pingouin as pg\n",
    "\n",
    "\n",
    "from sklearn import linear_model\n",
    "from sklearn.metrics import mean_squared_error, r2_score\n",
    "from sklearn.linear_model import LinearRegression\n",
    "from sklearn.model_selection import train_test_split\n",
    "\n",
    "import statsmodels.api as sm\n",
    "import statsmodels.formula.api as smf"
   ]
  },
  {
   "cell_type": "code",
   "execution_count": 2,
   "id": "34e626c0",
   "metadata": {},
   "outputs": [
    {
     "data": {
      "text/html": [
       "<div>\n",
       "<style scoped>\n",
       "    .dataframe tbody tr th:only-of-type {\n",
       "        vertical-align: middle;\n",
       "    }\n",
       "\n",
       "    .dataframe tbody tr th {\n",
       "        vertical-align: top;\n",
       "    }\n",
       "\n",
       "    .dataframe thead th {\n",
       "        text-align: right;\n",
       "    }\n",
       "</style>\n",
       "<table border=\"1\" class=\"dataframe\">\n",
       "  <thead>\n",
       "    <tr style=\"text-align: right;\">\n",
       "      <th></th>\n",
       "      <th>indice</th>\n",
       "      <th>Edad_Gestacional</th>\n",
       "      <th>Peso</th>\n",
       "    </tr>\n",
       "  </thead>\n",
       "  <tbody>\n",
       "    <tr>\n",
       "      <th>0</th>\n",
       "      <td>1.0</td>\n",
       "      <td>44.0</td>\n",
       "      <td>4.55</td>\n",
       "    </tr>\n",
       "    <tr>\n",
       "      <th>1</th>\n",
       "      <td>2.0</td>\n",
       "      <td>40.0</td>\n",
       "      <td>4.32</td>\n",
       "    </tr>\n",
       "    <tr>\n",
       "      <th>2</th>\n",
       "      <td>3.0</td>\n",
       "      <td>41.0</td>\n",
       "      <td>4.10</td>\n",
       "    </tr>\n",
       "    <tr>\n",
       "      <th>3</th>\n",
       "      <td>4.0</td>\n",
       "      <td>44.0</td>\n",
       "      <td>4.07</td>\n",
       "    </tr>\n",
       "    <tr>\n",
       "      <th>4</th>\n",
       "      <td>5.0</td>\n",
       "      <td>42.0</td>\n",
       "      <td>3.94</td>\n",
       "    </tr>\n",
       "  </tbody>\n",
       "</table>\n",
       "</div>"
      ],
      "text/plain": [
       "   indice  Edad_Gestacional  Peso\n",
       "0     1.0              44.0  4.55\n",
       "1     2.0              40.0  4.32\n",
       "2     3.0              41.0  4.10\n",
       "3     4.0              44.0  4.07\n",
       "4     5.0              42.0  3.94"
      ]
     },
     "execution_count": 2,
     "metadata": {},
     "output_type": "execute_result"
    }
   ],
   "source": [
    "# carga conjunto de datos\n",
    "\n",
    "filename = 'Birthweight.csv'\n",
    "raw_data = open(filename)\n",
    "data = np.loadtxt(raw_data, delimiter=\",\",skiprows=1)\n",
    "#print(data.shape)\n",
    "#print(data)\n",
    "#dt=pd.DataFrame(data)\n",
    "X=data[:,1]\n",
    "y=data[:,2]\n",
    "dt=pd.DataFrame(data)\n",
    "dt.columns=['indice','Edad_Gestacional','Peso']\n",
    "dt.drop(['indice'], axis=1)\n",
    "dt.head(5)\n"
   ]
  },
  {
   "cell_type": "markdown",
   "id": "581d81e6",
   "metadata": {},
   "source": [
    "1 .Realiza una descripción gráfica y de medidas estadísticas (descriptivas) de los datos."
   ]
  },
  {
   "cell_type": "code",
   "execution_count": 3,
   "id": "6909ea64",
   "metadata": {},
   "outputs": [
    {
     "data": {
      "text/html": [
       "<div>\n",
       "<style scoped>\n",
       "    .dataframe tbody tr th:only-of-type {\n",
       "        vertical-align: middle;\n",
       "    }\n",
       "\n",
       "    .dataframe tbody tr th {\n",
       "        vertical-align: top;\n",
       "    }\n",
       "\n",
       "    .dataframe thead th {\n",
       "        text-align: right;\n",
       "    }\n",
       "</style>\n",
       "<table border=\"1\" class=\"dataframe\">\n",
       "  <thead>\n",
       "    <tr style=\"text-align: right;\">\n",
       "      <th></th>\n",
       "      <th>indice</th>\n",
       "      <th>Edad_Gestacional</th>\n",
       "      <th>Peso</th>\n",
       "    </tr>\n",
       "  </thead>\n",
       "  <tbody>\n",
       "    <tr>\n",
       "      <th>count</th>\n",
       "      <td>42.000000</td>\n",
       "      <td>42.000000</td>\n",
       "      <td>42.000000</td>\n",
       "    </tr>\n",
       "    <tr>\n",
       "      <th>mean</th>\n",
       "      <td>21.500000</td>\n",
       "      <td>39.190476</td>\n",
       "      <td>3.312857</td>\n",
       "    </tr>\n",
       "    <tr>\n",
       "      <th>std</th>\n",
       "      <td>12.267844</td>\n",
       "      <td>2.643336</td>\n",
       "      <td>0.603895</td>\n",
       "    </tr>\n",
       "    <tr>\n",
       "      <th>min</th>\n",
       "      <td>1.000000</td>\n",
       "      <td>33.000000</td>\n",
       "      <td>1.920000</td>\n",
       "    </tr>\n",
       "    <tr>\n",
       "      <th>25%</th>\n",
       "      <td>11.250000</td>\n",
       "      <td>38.000000</td>\n",
       "      <td>2.940000</td>\n",
       "    </tr>\n",
       "    <tr>\n",
       "      <th>50%</th>\n",
       "      <td>21.500000</td>\n",
       "      <td>39.500000</td>\n",
       "      <td>3.295000</td>\n",
       "    </tr>\n",
       "    <tr>\n",
       "      <th>75%</th>\n",
       "      <td>31.750000</td>\n",
       "      <td>41.000000</td>\n",
       "      <td>3.647500</td>\n",
       "    </tr>\n",
       "    <tr>\n",
       "      <th>max</th>\n",
       "      <td>42.000000</td>\n",
       "      <td>45.000000</td>\n",
       "      <td>4.570000</td>\n",
       "    </tr>\n",
       "  </tbody>\n",
       "</table>\n",
       "</div>"
      ],
      "text/plain": [
       "          indice  Edad_Gestacional       Peso\n",
       "count  42.000000         42.000000  42.000000\n",
       "mean   21.500000         39.190476   3.312857\n",
       "std    12.267844          2.643336   0.603895\n",
       "min     1.000000         33.000000   1.920000\n",
       "25%    11.250000         38.000000   2.940000\n",
       "50%    21.500000         39.500000   3.295000\n",
       "75%    31.750000         41.000000   3.647500\n",
       "max    42.000000         45.000000   4.570000"
      ]
     },
     "execution_count": 3,
     "metadata": {},
     "output_type": "execute_result"
    }
   ],
   "source": [
    "dt.describe()"
   ]
  },
  {
   "cell_type": "code",
   "execution_count": 4,
   "id": "22f4ef95",
   "metadata": {},
   "outputs": [
    {
     "data": {
      "image/png": "[encoded data removed]",
      "text/plain": [
       "<Figure size 432x288 with 1 Axes>"
      ]
     },
     "metadata": {
      "needs_background": "light"
     },
     "output_type": "display_data"
    }
   ],
   "source": [
    "#Edad Gestacional \n",
    "sns.histplot(x=dt['Edad_Gestacional'], bins=10, kde=True);"
   ]
  },
  {
   "cell_type": "code",
   "execution_count": 5,
   "id": "60b62111",
   "metadata": {},
   "outputs": [
    {
     "data": {
      "image/png": "[encoded data removed]",
      "text/plain": [
       "<Figure size 432x288 with 1 Axes>"
      ]
     },
     "metadata": {
      "needs_background": "light"
     },
     "output_type": "display_data"
    }
   ],
   "source": [
    "#Peso al nacer\n",
    "sns.histplot(x=dt['Peso'], bins=10, kde=True, color='purple');"
   ]
  },
  {
   "cell_type": "code",
   "execution_count": 6,
   "id": "07e7619d",
   "metadata": {},
   "outputs": [
    {
     "data": {
      "text/plain": [
       "Text(0.5, 1.0, 'Media del peso ')"
      ]
     },
     "execution_count": 6,
     "metadata": {},
     "output_type": "execute_result"
    },
    {
     "data": {
      "image/png": "[encoded data removed]",
      "text/plain": [
       "<Figure size 432x288 with 1 Axes>"
      ]
     },
     "metadata": {
      "needs_background": "light"
     },
     "output_type": "display_data"
    }
   ],
   "source": [
    "ax=sns.boxplot(x=dt['Peso'], color='c', showmeans=True);\n",
    "ax.set_title('Media del peso ')"
   ]
  },
  {
   "cell_type": "markdown",
   "id": "f720bfbd",
   "metadata": {},
   "source": [
    "<font color=\"#004D7F\" size=3>2. Realiza un análisis de regresión lineal y proporcionar estimadores puntuales de los parámetros</font><br>\n"
   ]
  },
  {
   "cell_type": "code",
   "execution_count": 7,
   "id": "3c812e7d",
   "metadata": {
    "scrolled": true
   },
   "outputs": [
    {
     "data": {
      "text/plain": [
       "Text(0.5, 0, 'Edad_gestaional')"
      ]
     },
     "execution_count": 7,
     "metadata": {},
     "output_type": "execute_result"
    },
    {
     "data": {
      "image/png": "[encoded data removed]",
      "text/plain": [
       "<Figure size 576x432 with 1 Axes>"
      ]
     },
     "metadata": {
      "needs_background": "light"
     },
     "output_type": "display_data"
    }
   ],
   "source": [
    "plt.figure(figsize=(8,6))\n",
    "plt.scatter(dt.iloc[:,1],dt.iloc[:,2], edgecolor='r' ) \n",
    "#plt.plot(dt.iloc[:,1],dt.iloc[:,2])\n",
    "#plt.colorbar(ticks=[0,1,2]) # format le da\n",
    "plt.title('Relación de variables')\n",
    "plt.ylabel('Peso')\n",
    "plt.xlabel('Edad_gestaional')"
   ]
  },
  {
   "cell_type": "markdown",
   "id": "3b9bfafb",
   "metadata": {},
   "source": [
    " # Creación del modelo de regresión:"
   ]
  },
  {
   "cell_type": "code",
   "execution_count": 8,
   "id": "edecdeae",
   "metadata": {},
   "outputs": [],
   "source": [
    "# Asignamos nuestra variable de entrada X para entrenamiento y las etiquetas Y.\n",
    "\n",
    "X =dt[['Edad_Gestacional']]\n",
    "\n",
    "y= dt['Peso']\n",
    "\n",
    "X_train, X_test, y_train, y_test = train_test_split(\n",
    "                                        X.values.reshape(-1,1),\n",
    "                                        y.values.reshape(-1,1),\n",
    "                                        train_size   = 0.8,\n",
    "                                        random_state = 1234,\n",
    "                                        shuffle      = True\n",
    "                                    )\n",
    "\n",
    "# Creamos el objeto de Regresión Linear\n",
    "regr = linear_model.LinearRegression()\n",
    "\n",
    "# Entrenamos nuestro modelo\n",
    "regr.fit(X_train, y_train)\n",
    "\n",
    "\n",
    "y_pred = regr.predict(X_train)\n",
    "\n",
    "datos_train = pd.DataFrame(np.hstack((X_train, y_train)), columns=['Edad_Gestacional', 'Peso'])\n",
    "modelo = smf.ols(formula = 'Peso ~Edad_Gestacional', data = datos_train)\n",
    "modelo = modelo.fit()\n",
    "\n",
    "\n",
    "\n"
   ]
  },
  {
   "cell_type": "markdown",
   "id": "f1eff6cb",
   "metadata": {},
   "source": [
    "# Resumen del modelo de Regresión"
   ]
  },
  {
   "cell_type": "code",
   "execution_count": 9,
   "id": "9d6d5b8c",
   "metadata": {},
   "outputs": [
    {
     "data": {
      "text/html": [
       "<table class=\"simpletable\">\n",
       "<caption>OLS Regression Results</caption>\n",
       "<tr>\n",
       "  <th>Dep. Variable:</th>          <td>Peso</td>       <th>  R-squared:         </th> <td>   0.567</td>\n",
       "</tr>\n",
       "<tr>\n",
       "  <th>Model:</th>                   <td>OLS</td>       <th>  Adj. R-squared:    </th> <td>   0.553</td>\n",
       "</tr>\n",
       "<tr>\n",
       "  <th>Method:</th>             <td>Least Squares</td>  <th>  F-statistic:       </th> <td>   40.63</td>\n",
       "</tr>\n",
       "<tr>\n",
       "  <th>Date:</th>             <td>Wed, 05 Oct 2022</td> <th>  Prob (F-statistic):</th> <td>4.25e-07</td>\n",
       "</tr>\n",
       "<tr>\n",
       "  <th>Time:</th>                 <td>11:56:37</td>     <th>  Log-Likelihood:    </th> <td> -17.304</td>\n",
       "</tr>\n",
       "<tr>\n",
       "  <th>No. Observations:</th>      <td>    33</td>      <th>  AIC:               </th> <td>   38.61</td>\n",
       "</tr>\n",
       "<tr>\n",
       "  <th>Df Residuals:</th>          <td>    31</td>      <th>  BIC:               </th> <td>   41.60</td>\n",
       "</tr>\n",
       "<tr>\n",
       "  <th>Df Model:</th>              <td>     1</td>      <th>                     </th>     <td> </td>   \n",
       "</tr>\n",
       "<tr>\n",
       "  <th>Covariance Type:</th>      <td>nonrobust</td>    <th>                     </th>     <td> </td>   \n",
       "</tr>\n",
       "</table>\n",
       "<table class=\"simpletable\">\n",
       "<tr>\n",
       "          <td></td>            <th>coef</th>     <th>std err</th>      <th>t</th>      <th>P>|t|</th>  <th>[0.025</th>    <th>0.975]</th>  \n",
       "</tr>\n",
       "<tr>\n",
       "  <th>Intercept</th>        <td>   -3.4746</td> <td>    1.060</td> <td>   -3.278</td> <td> 0.003</td> <td>   -5.636</td> <td>   -1.313</td>\n",
       "</tr>\n",
       "<tr>\n",
       "  <th>Edad_Gestacional</th> <td>    0.1723</td> <td>    0.027</td> <td>    6.374</td> <td> 0.000</td> <td>    0.117</td> <td>    0.227</td>\n",
       "</tr>\n",
       "</table>\n",
       "<table class=\"simpletable\">\n",
       "<tr>\n",
       "  <th>Omnibus:</th>       <td> 1.520</td> <th>  Durbin-Watson:     </th> <td>   1.710</td>\n",
       "</tr>\n",
       "<tr>\n",
       "  <th>Prob(Omnibus):</th> <td> 0.468</td> <th>  Jarque-Bera (JB):  </th> <td>   1.366</td>\n",
       "</tr>\n",
       "<tr>\n",
       "  <th>Skew:</th>          <td> 0.466</td> <th>  Prob(JB):          </th> <td>   0.505</td>\n",
       "</tr>\n",
       "<tr>\n",
       "  <th>Kurtosis:</th>      <td> 2.646</td> <th>  Cond. No.          </th> <td>    566.</td>\n",
       "</tr>\n",
       "</table><br/><br/>Notes:<br/>[1] Standard Errors assume that the covariance matrix of the errors is correctly specified."
      ],
      "text/plain": [
       "<class 'statsmodels.iolib.summary.Summary'>\n",
       "\"\"\"\n",
       "                            OLS Regression Results                            \n",
       "==============================================================================\n",
       "Dep. Variable:                   Peso   R-squared:                       0.567\n",
       "Model:                            OLS   Adj. R-squared:                  0.553\n",
       "Method:                 Least Squares   F-statistic:                     40.63\n",
       "Date:                Wed, 05 Oct 2022   Prob (F-statistic):           4.25e-07\n",
       "Time:                        11:56:37   Log-Likelihood:                -17.304\n",
       "No. Observations:                  33   AIC:                             38.61\n",
       "Df Residuals:                      31   BIC:                             41.60\n",
       "Df Model:                           1                                         \n",
       "Covariance Type:            nonrobust                                         \n",
       "====================================================================================\n",
       "                       coef    std err          t      P>|t|      [0.025      0.975]\n",
       "------------------------------------------------------------------------------------\n",
       "Intercept           -3.4746      1.060     -3.278      0.003      -5.636      -1.313\n",
       "Edad_Gestacional     0.1723      0.027      6.374      0.000       0.117       0.227\n",
       "==============================================================================\n",
       "Omnibus:                        1.520   Durbin-Watson:                   1.710\n",
       "Prob(Omnibus):                  0.468   Jarque-Bera (JB):                1.366\n",
       "Skew:                           0.466   Prob(JB):                        0.505\n",
       "Kurtosis:                       2.646   Cond. No.                         566.\n",
       "==============================================================================\n",
       "\n",
       "Notes:\n",
       "[1] Standard Errors assume that the covariance matrix of the errors is correctly specified.\n",
       "\"\"\""
      ]
     },
     "execution_count": 9,
     "metadata": {},
     "output_type": "execute_result"
    }
   ],
   "source": [
    "(modelo.summary())"
   ]
  },
  {
   "cell_type": "code",
   "execution_count": 10,
   "id": "38902016",
   "metadata": {},
   "outputs": [
    {
     "name": "stdout",
     "output_type": "stream",
     "text": [
      "Coefficients: \n",
      " [[0.17227103]]\n",
      "Independent term: \n",
      " [-3.47460304]\n",
      "Mean squared error: 0.17\n",
      "Variance score: 0.57\n"
     ]
    }
   ],
   "source": [
    "\n",
    "# Veamos los coeficienetes obtenidos, En nuestro caso, serán la Tangente\n",
    "print('Coefficients: \\n', regr.coef_)\n",
    "# Este es el valor donde corta el eje Y (en X=0)\n",
    "print('Independent term: \\n', regr.intercept_)\n",
    "# Error Cuadrado Medio\n",
    "print(\"Mean squared error: %.2f\" % mean_squared_error(y_train, y_pred))\n",
    "# Puntaje de Varianza. El mejor puntaje es un 1.0\n",
    "print('Variance score: %.2f' % r2_score(y_train, y_pred))"
   ]
  },
  {
   "cell_type": "markdown",
   "id": "5d723946",
   "metadata": {},
   "source": [
    " 3. Usando el error estándar, establece intervalos de confianza al 95% para los parámetros de laregresión.\n",
    " \n",
    "Un intervalo de confianza del 95% me dirá que si tomamos un número infinito de muestras de mi población, calculamos el intervalo cada vez, entonces, en el 95% de esos intervalos, el intervalo contendrá la media real de la población"
   ]
  },
  {
   "cell_type": "code",
   "execution_count": 11,
   "id": "ac17a398",
   "metadata": {},
   "outputs": [
    {
     "name": "stdout",
     "output_type": "stream",
     "text": [
      "El intervalo de Confianza  de  para la edad gestacinal y el peso del bebe al nacer es: (0.117, 0,227) \n",
      "El intervalo de Confianza  del 95% para la edad gestacinal y el peso del bebe al nacer es:\n"
     ]
    },
    {
     "name": "stderr",
     "output_type": "stream",
     "text": [
      "C:\\Users\\daalu\\anaconda3\\lib\\site-packages\\seaborn\\_decorators.py:36: FutureWarning: Pass the following variables as keyword args: x, y. From version 0.12, the only valid positional argument will be `data`, and passing other arguments without an explicit keyword will result in an error or misinterpretation.\n",
      "  warnings.warn(\n"
     ]
    },
    {
     "name": "stdout",
     "output_type": "stream",
     "text": [
      " Edad gestacional:  (array([0.91349416]), array([0.95271899]))\n",
      " Peso:  (0.07439690968149378, 0.08335819235932253)\n"
     ]
    },
    {
     "name": "stderr",
     "output_type": "stream",
     "text": [
      "C:\\Users\\daalu\\anaconda3\\lib\\site-packages\\numpy\\core\\fromnumeric.py:3438: FutureWarning: In a future version, DataFrame.mean(axis=None) will return a scalar mean over the entire DataFrame. To retain the old behavior, use 'frame.mean(axis=0)' or just 'frame.mean()'\n",
      "  return mean(axis=axis, dtype=dtype, out=out, **kwargs)\n"
     ]
    },
    {
     "data": {
      "image/png": "[encoded data removed]",
      "text/plain": [
       "<Figure size 432x288 with 1 Axes>"
      ]
     },
     "metadata": {
      "needs_background": "light"
     },
     "output_type": "display_data"
    }
   ],
   "source": [
    "print('El intervalo de Confianza  de  para la edad gestacinal y el peso del bebe al nacer es: (0.117, 0,227) ')\n",
    "ax = sns.regplot(X/len(X), y/len(y), ci=95)\n",
    "print('El intervalo de Confianza  del 95% para la edad gestacinal y el peso del bebe al nacer es:')\n",
    "print(' Edad gestacional: ', st.t.interval(alpha=0.95, df=len(X/len(X))-1, loc=np.mean(X/len(X)), scale=st.sem(X/len(X))))\n",
    "print(' Peso: ',st.t.interval(alpha=0.95, df=len(y/len(y))-1, loc=np.mean(y/len(y)), scale=st.sem(y/len(y))))\n"
   ]
  },
  {
   "cell_type": "markdown",
   "id": "8428071c",
   "metadata": {},
   "source": [
    "4. Realiza las pruebas de hipótesis para los parámetros y para determinar la significancia de la\n",
    "regresión"
   ]
  },
  {
   "cell_type": "code",
   "execution_count": 12,
   "id": "de4ab385",
   "metadata": {},
   "outputs": [
    {
     "name": "stdout",
     "output_type": "stream",
     "text": [
      "Según el resumen la p- value es de: 4.25e-07 \n",
      "por lo tanto, se rechaza la hipotesis nula  Ho\n"
     ]
    }
   ],
   "source": [
    "print('Según el resumen la p- value es de: 4.25e-07 ')\n",
    "print('por lo tanto, se rechaza la hipotesis nula  Ho')\n"
   ]
  },
  {
   "cell_type": "markdown",
   "id": "212107b1",
   "metadata": {},
   "source": [
    "5. Con base en tu análisis, concluye sobre el contexto del problema y responde la pregunta de\n",
    "investigación\n"
   ]
  },
  {
   "cell_type": "markdown",
   "id": "02ba4010",
   "metadata": {},
   "source": [
    "\n",
    "# Conclusión\n",
    "Dado que p-value (4.25e-07) es menor que el nivel de significancia alpha (0.05) , existe  evidencia  para considerar que existe una relación directa  entre el peso los recien  nacidos y sus semanas de gestacion.\n",
    "\n",
    "Sin embargo dado que La R-squared:  es de 0.567 esta en el medio  decimos que el  modelo lineal a un conjunto de observaciones no se ajusta de la mejor forma, pero tampoco se desajusta . "
   ]
  },
  {
   "cell_type": "code",
   "execution_count": null,
   "id": "f16e2f39",
   "metadata": {},
   "outputs": [],
   "source": []
  },
  {
   "cell_type": "code",
   "execution_count": 13,
   "id": "a589023c",
   "metadata": {},
   "outputs": [],
   "source": [
    "mod2 = smf.ols('Peso ~Edad_Gestacional', data=dt).fit()   # Ajusta el modelo de regresión usando el registro natural de uno de los regresores"
   ]
  },
  {
   "cell_type": "code",
   "execution_count": 14,
   "id": "4455dc36",
   "metadata": {},
   "outputs": [
    {
     "data": {
      "text/html": [
       "<table class=\"simpletable\">\n",
       "<caption>OLS Regression Results</caption>\n",
       "<tr>\n",
       "  <th>Dep. Variable:</th>          <td>Peso</td>       <th>  R-squared:         </th> <td>   0.502</td>\n",
       "</tr>\n",
       "<tr>\n",
       "  <th>Model:</th>                   <td>OLS</td>       <th>  Adj. R-squared:    </th> <td>   0.489</td>\n",
       "</tr>\n",
       "<tr>\n",
       "  <th>Method:</th>             <td>Least Squares</td>  <th>  F-statistic:       </th> <td>   40.27</td>\n",
       "</tr>\n",
       "<tr>\n",
       "  <th>Date:</th>             <td>Wed, 05 Oct 2022</td> <th>  Prob (F-statistic):</th> <td>1.54e-07</td>\n",
       "</tr>\n",
       "<tr>\n",
       "  <th>Time:</th>                 <td>12:07:02</td>     <th>  Log-Likelihood:    </th> <td> -23.279</td>\n",
       "</tr>\n",
       "<tr>\n",
       "  <th>No. Observations:</th>      <td>    42</td>      <th>  AIC:               </th> <td>   50.56</td>\n",
       "</tr>\n",
       "<tr>\n",
       "  <th>Df Residuals:</th>          <td>    40</td>      <th>  BIC:               </th> <td>   54.03</td>\n",
       "</tr>\n",
       "<tr>\n",
       "  <th>Df Model:</th>              <td>     1</td>      <th>                     </th>     <td> </td>   \n",
       "</tr>\n",
       "<tr>\n",
       "  <th>Covariance Type:</th>      <td>nonrobust</td>    <th>                     </th>     <td> </td>   \n",
       "</tr>\n",
       "</table>\n",
       "<table class=\"simpletable\">\n",
       "<tr>\n",
       "          <td></td>            <th>coef</th>     <th>std err</th>      <th>t</th>      <th>P>|t|</th>  <th>[0.025</th>    <th>0.975]</th>  \n",
       "</tr>\n",
       "<tr>\n",
       "  <th>Intercept</th>        <td>   -3.0289</td> <td>    1.002</td> <td>   -3.024</td> <td> 0.004</td> <td>   -5.053</td> <td>   -1.005</td>\n",
       "</tr>\n",
       "<tr>\n",
       "  <th>Edad_Gestacional</th> <td>    0.1618</td> <td>    0.025</td> <td>    6.346</td> <td> 0.000</td> <td>    0.110</td> <td>    0.213</td>\n",
       "</tr>\n",
       "</table>\n",
       "<table class=\"simpletable\">\n",
       "<tr>\n",
       "  <th>Omnibus:</th>       <td> 1.087</td> <th>  Durbin-Watson:     </th> <td>   1.456</td>\n",
       "</tr>\n",
       "<tr>\n",
       "  <th>Prob(Omnibus):</th> <td> 0.581</td> <th>  Jarque-Bera (JB):  </th> <td>   1.120</td>\n",
       "</tr>\n",
       "<tr>\n",
       "  <th>Skew:</th>          <td> 0.323</td> <th>  Prob(JB):          </th> <td>   0.571</td>\n",
       "</tr>\n",
       "<tr>\n",
       "  <th>Kurtosis:</th>      <td> 2.529</td> <th>  Cond. No.          </th> <td>    591.</td>\n",
       "</tr>\n",
       "</table><br/><br/>Notes:<br/>[1] Standard Errors assume that the covariance matrix of the errors is correctly specified."
      ],
      "text/plain": [
       "<class 'statsmodels.iolib.summary.Summary'>\n",
       "\"\"\"\n",
       "                            OLS Regression Results                            \n",
       "==============================================================================\n",
       "Dep. Variable:                   Peso   R-squared:                       0.502\n",
       "Model:                            OLS   Adj. R-squared:                  0.489\n",
       "Method:                 Least Squares   F-statistic:                     40.27\n",
       "Date:                Wed, 05 Oct 2022   Prob (F-statistic):           1.54e-07\n",
       "Time:                        12:07:02   Log-Likelihood:                -23.279\n",
       "No. Observations:                  42   AIC:                             50.56\n",
       "Df Residuals:                      40   BIC:                             54.03\n",
       "Df Model:                           1                                         \n",
       "Covariance Type:            nonrobust                                         \n",
       "====================================================================================\n",
       "                       coef    std err          t      P>|t|      [0.025      0.975]\n",
       "------------------------------------------------------------------------------------\n",
       "Intercept           -3.0289      1.002     -3.024      0.004      -5.053      -1.005\n",
       "Edad_Gestacional     0.1618      0.025      6.346      0.000       0.110       0.213\n",
       "==============================================================================\n",
       "Omnibus:                        1.087   Durbin-Watson:                   1.456\n",
       "Prob(Omnibus):                  0.581   Jarque-Bera (JB):                1.120\n",
       "Skew:                           0.323   Prob(JB):                        0.571\n",
       "Kurtosis:                       2.529   Cond. No.                         591.\n",
       "==============================================================================\n",
       "\n",
       "Notes:\n",
       "[1] Standard Errors assume that the covariance matrix of the errors is correctly specified.\n",
       "\"\"\""
      ]
     },
     "execution_count": 14,
     "metadata": {},
     "output_type": "execute_result"
    }
   ],
   "source": [
    "mod2.summary()"
   ]
  },
  {
   "cell_type": "code",
   "execution_count": 22,
   "id": "c805456b",
   "metadata": {},
   "outputs": [
    {
     "data": {
      "image/png": "[encoded data removed]",
      "text/plain": [
       "<Figure size 576x432 with 1 Axes>"
      ]
     },
     "metadata": {
      "needs_background": "light"
     },
     "output_type": "display_data"
    }
   ],
   "source": [
    "fig, ax = plt.subplots(figsize=(8,6))                                    # Ajuste del gráfico\n",
    "ax.plot(dt[\"Edad_Gestacional\"] , dt[\"Peso\"] , 'o', label=\"Datos\", color='c')                         # Ajuste para las etiquetas del gráfico\n",
    "ax.plot(dt[\"Edad_Gestacional\"], mod2.fittedvalues, 'r--.', label=\"Ajustado\")           # Ajuste para las etiquetas del gráfico\n",
    "legend = ax.legend(loc=\"best\")                                           # Ajustes para las leyendas del gráfico\n",
    "plt.xlabel('Semanas de Gestación',fontsize=20)                                          # Etiqueta del eje X\n",
    "plt.ylabel('Peso', fontsize=20)                                               # Etiqueta del eje Y\n",
    "plt.title('Diagrama de dispersión con la recta del modelo ajustado', fontsize=22);    # Título del gráfico"
   ]
  },
  {
   "cell_type": "code",
   "execution_count": null,
   "id": "081c67eb",
   "metadata": {},
   "outputs": [],
   "source": []
  }
 ],
 "metadata": {
  "kernelspec": {
   "display_name": "Python 3 (ipykernel)",
   "language": "python",
   "name": "python3"
  },
  "language_info": {
   "codemirror_mode": {
    "name": "ipython",
    "version": 3
   },
   "file_extension": ".py",
   "mimetype": "text/x-python",
   "name": "python",
   "nbconvert_exporter": "python",
   "pygments_lexer": "ipython3",
   "version": "3.9.12"
  }
 },
 "nbformat": 4,
 "nbformat_minor": 5
}
